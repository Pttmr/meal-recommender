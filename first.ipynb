{
 "cells": [
  {
   "cell_type": "code",
   "execution_count": 6,
   "outputs": [
    {
     "name": "stdout",
     "output_type": "stream",
     "text": [
      "Collecting streamlit-multipage\r\n",
      "  Downloading streamlit_multipage-0.0.18-py3-none-any.whl (19 kB)\r\n",
      "Installing collected packages: streamlit-multipage\r\n",
      "Successfully installed streamlit-multipage-0.0.18\r\n"
     ]
    }
   ],
   "source": [
    "!pip install streamlit-multipage"
   ],
   "metadata": {
    "collapsed": false,
    "pycharm": {
     "name": "#%%\n"
    }
   }
  },
  {
   "cell_type": "code",
   "execution_count": 3,
   "metadata": {
    "collapsed": true
   },
   "outputs": [],
   "source": [
    "import streamlit as st\n",
    "import pandas as pd\n",
    "import numpy as np\n"
   ]
  },
  {
   "cell_type": "code",
   "execution_count": 4,
   "outputs": [
    {
     "name": "stderr",
     "output_type": "stream",
     "text": [
      "2022-04-13 16:13:18.059 \n",
      "  \u001B[33m\u001B[1mWarning:\u001B[0m to view this Streamlit app on a browser, run it with the following\n",
      "  command:\n",
      "\n",
      "    streamlit run /home/bee110493/anaconda3/envs/deep-39x/lib/python3.9/site-packages/ipykernel_launcher.py [ARGUMENTS]\n"
     ]
    }
   ],
   "source": [
    "# 3. CSS style definitions\n",
    "selected3 = option_menu(None, [\"Home\", \"Upload\",  \"Tasks\", 'Settings'],\n",
    "                        icons=['house', 'cloud-upload', \"list-task\", 'gear'],\n",
    "                        menu_icon=\"cast\", default_index=0, orientation=\"horizontal\",\n",
    "                        styles={\n",
    "                            \"container\": {\"padding\": \"0!important\", \"background-color\": \"#fafafa\"},\n",
    "                            \"icon\": {\"color\": \"orange\", \"font-size\": \"25px\"},\n",
    "                            \"nav-link\": {\"font-size\": \"25px\", \"text-align\": \"left\", \"margin\":\"0px\", \"--hover-color\": \"#eee\"},\n",
    "                            \"nav-link-selected\": {\"background-color\": \"green\"},\n",
    "                        }\n",
    "                        )"
   ],
   "metadata": {
    "collapsed": false,
    "pycharm": {
     "name": "#%%\n"
    }
   }
  },
  {
   "cell_type": "code",
   "execution_count": 5,
   "outputs": [
    {
     "data": {
      "text/plain": "DeltaGenerator(_root_container=0, _provided_cursor=None, _parent=None, _block_type=None, _form_data=None)"
     },
     "execution_count": 5,
     "metadata": {},
     "output_type": "execute_result"
    }
   ],
   "source": [
    "st.title(\"Meal recommender\")"
   ],
   "metadata": {
    "collapsed": false,
    "pycharm": {
     "name": "#%%\n"
    }
   }
  }
 ],
 "metadata": {
  "kernelspec": {
   "display_name": "Python 3",
   "language": "python",
   "name": "python3"
  },
  "language_info": {
   "codemirror_mode": {
    "name": "ipython",
    "version": 2
   },
   "file_extension": ".py",
   "mimetype": "text/x-python",
   "name": "python",
   "nbconvert_exporter": "python",
   "pygments_lexer": "ipython2",
   "version": "2.7.6"
  }
 },
 "nbformat": 4,
 "nbformat_minor": 0
}