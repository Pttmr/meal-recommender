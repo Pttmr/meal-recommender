{
 "cells": [
  {
   "cell_type": "code",
   "execution_count": 10,
   "metadata": {
    "collapsed": true
   },
   "outputs": [],
   "source": []
  },
  {
   "cell_type": "code",
   "execution_count": 25,
   "outputs": [],
   "source": [
    "%matplotlib inline\n",
    "%config InlineBackend.figure_format = 'retina'\n",
    "import os\n",
    "import glob\n",
    "import json\n",
    "import numpy as np\n",
    "import pandas as pd\n",
    "import matplotlib.pyplot as plt\n",
    "import tensorflow as tf\n",
    "import cv2\n",
    "from tensorflow.keras.preprocessing.image import ImageDataGenerator\n",
    "from tensorflow.keras import  applications\n",
    "from tensorflow.keras.models import Sequential\n",
    "from tensorflow.keras.layers import Conv2D, MaxPool2D,GlobalAveragePooling2D, Flatten, Dense, Dropout, BatchNormalization\n",
    "from tensorflow.keras.callbacks import ModelCheckpoint, EarlyStopping, ReduceLROnPlateau\n",
    "from tensorflow.keras.optimizers import Adam\n",
    "\n",
    "import warnings\n",
    "warnings.filterwarnings('ignore')\n",
    "import random\n",
    "import logging\n",
    "logger = tf.get_logger()\n",
    "logger.setLevel(logging.ERROR)\n",
    "import glob\n",
    "import shutil\n",
    "import os\n",
    "import itertools\n",
    "from sklearn.metrics import confusion_matrix ,classification_report\n",
    "import joblib"
   ],
   "metadata": {
    "collapsed": false,
    "pycharm": {
     "name": "#%%\n"
    }
   }
  },
  {
   "cell_type": "code",
   "execution_count": 12,
   "outputs": [],
   "source": [
    "train_path = \"/home/bee110493/.config/JetBrains/DataSpell2021.3/projects/meal-recommender/app/fruits/train\"\n",
    "test_path = \"/home/bee110493/.config/JetBrains/DataSpell2021.3/projects/meal-recommender/app/fruits/test\""
   ],
   "metadata": {
    "collapsed": false,
    "pycharm": {
     "name": "#%%\n"
    }
   }
  },
  {
   "cell_type": "code",
   "execution_count": 13,
   "outputs": [
    {
     "name": "stdout",
     "output_type": "stream",
     "text": [
      "Found 460 files belonging to 3 classes.\n",
      "Found 130 files belonging to 3 classes.\n"
     ]
    }
   ],
   "source": [
    "IMG_SIZE = (100, 100)\n",
    "train_images=tf.keras.preprocessing.image_dataset_from_directory(directory=train_path,image_size=IMG_SIZE,batch_size=10,shuffle=False)\n",
    "test_images= tf.keras.preprocessing.image_dataset_from_directory(directory=test_path, image_size=IMG_SIZE,batch_size=10,shuffle=False)"
   ],
   "metadata": {
    "collapsed": false,
    "pycharm": {
     "name": "#%%\n"
    }
   }
  },
  {
   "cell_type": "code",
   "execution_count": 14,
   "outputs": [],
   "source": [
    "model1 = Sequential([\n",
    "\n",
    "    Conv2D(filters=32,kernel_size=(3,3),activation='relu',padding='same',input_shape=(100,100,3)),\n",
    "    MaxPool2D(pool_size=(2,2),strides=2),\n",
    "    Conv2D(filters=32,kernel_size=(3,3),activation='relu',padding='same'),\n",
    "    MaxPool2D(pool_size=(2,2),strides=2),\n",
    "\n",
    "    Flatten(),\n",
    "    Dense(units=131,activation='softmax'),\n",
    "])"
   ],
   "metadata": {
    "collapsed": false,
    "pycharm": {
     "name": "#%%\n"
    }
   }
  },
  {
   "cell_type": "code",
   "execution_count": 15,
   "outputs": [
    {
     "name": "stdout",
     "output_type": "stream",
     "text": [
      "Model: \"sequential_3\"\n",
      "_________________________________________________________________\n",
      " Layer (type)                Output Shape              Param #   \n",
      "=================================================================\n",
      " conv2d_6 (Conv2D)           (None, 100, 100, 32)      896       \n",
      "                                                                 \n",
      " max_pooling2d_6 (MaxPooling  (None, 50, 50, 32)       0         \n",
      " 2D)                                                             \n",
      "                                                                 \n",
      " conv2d_7 (Conv2D)           (None, 50, 50, 32)        9248      \n",
      "                                                                 \n",
      " max_pooling2d_7 (MaxPooling  (None, 25, 25, 32)       0         \n",
      " 2D)                                                             \n",
      "                                                                 \n",
      " flatten_3 (Flatten)         (None, 20000)             0         \n",
      "                                                                 \n",
      " dense_3 (Dense)             (None, 131)               2620131   \n",
      "                                                                 \n",
      "=================================================================\n",
      "Total params: 2,630,275\n",
      "Trainable params: 2,630,275\n",
      "Non-trainable params: 0\n",
      "_________________________________________________________________\n"
     ]
    }
   ],
   "source": [
    "model1.summary()"
   ],
   "metadata": {
    "collapsed": false,
    "pycharm": {
     "name": "#%%\n"
    }
   }
  },
  {
   "cell_type": "code",
   "execution_count": 16,
   "outputs": [],
   "source": [
    "model1.compile(optimizer=Adam(learning_rate=0.0001),loss='sparse_categorical_crossentropy',metrics=['accuracy'])"
   ],
   "metadata": {
    "collapsed": false,
    "pycharm": {
     "name": "#%%\n"
    }
   }
  },
  {
   "cell_type": "code",
   "execution_count": 17,
   "outputs": [
    {
     "name": "stdout",
     "output_type": "stream",
     "text": [
      "Epoch 1/10\n",
      "46/46 [==============================] - 6s 111ms/step - loss: 82.6405 - accuracy: 0.6652\n",
      "Epoch 2/10\n",
      "46/46 [==============================] - 6s 123ms/step - loss: 175.1866 - accuracy: 0.1109\n",
      "Epoch 3/10\n",
      "46/46 [==============================] - 6s 138ms/step - loss: 15.9251 - accuracy: 0.3543\n",
      "Epoch 4/10\n",
      "46/46 [==============================] - 5s 118ms/step - loss: 8.6937 - accuracy: 0.3935\n",
      "Epoch 5/10\n",
      "46/46 [==============================] - 6s 125ms/step - loss: 5.1094 - accuracy: 0.5022\n",
      "Epoch 6/10\n",
      "46/46 [==============================] - 6s 124ms/step - loss: 3.0788 - accuracy: 0.5826\n",
      "Epoch 7/10\n",
      "46/46 [==============================] - 6s 131ms/step - loss: 2.2182 - accuracy: 0.6261\n",
      "Epoch 8/10\n",
      "46/46 [==============================] - 5s 117ms/step - loss: 1.9654 - accuracy: 0.6435\n",
      "Epoch 9/10\n",
      "46/46 [==============================] - 5s 117ms/step - loss: 1.7037 - accuracy: 0.6804\n",
      "Epoch 10/10\n",
      "46/46 [==============================] - 6s 127ms/step - loss: 1.4673 - accuracy: 0.7043\n"
     ]
    }
   ],
   "source": [
    "results=model1.fit(train_images,epochs=10)"
   ],
   "metadata": {
    "collapsed": false,
    "pycharm": {
     "name": "#%%\n"
    }
   }
  },
  {
   "cell_type": "code",
   "execution_count": 20,
   "outputs": [
    {
     "name": "stdout",
     "output_type": "stream",
     "text": [
      "13/13 - 1s - loss: 2.5483 - accuracy: 0.7308 - 793ms/epoch - 61ms/step\n",
      "\n",
      "Test accuracy: 0.7307692170143127\n"
     ]
    }
   ],
   "source": [
    "test_model, test_acc = model1.evaluate(test_images, verbose=2)\n",
    "print('\\nTest accuracy:', test_acc)"
   ],
   "metadata": {
    "collapsed": false,
    "pycharm": {
     "name": "#%%\n"
    }
   }
  },
  {
   "cell_type": "code",
   "execution_count": 21,
   "outputs": [],
   "source": [
    "probability_model = tf.keras.Sequential([model1,\n",
    "                                         tf.keras.layers.Softmax()])"
   ],
   "metadata": {
    "collapsed": false,
    "pycharm": {
     "name": "#%%\n"
    }
   }
  },
  {
   "cell_type": "code",
   "execution_count": 22,
   "outputs": [
    {
     "name": "stdout",
     "output_type": "stream",
     "text": [
      "13/13 [==============================] - 1s 55ms/step\n"
     ]
    }
   ],
   "source": [
    "predictions = probability_model.predict(test_images)"
   ],
   "metadata": {
    "collapsed": false,
    "pycharm": {
     "name": "#%%\n"
    }
   }
  },
  {
   "cell_type": "code",
   "execution_count": 26,
   "outputs": [
    {
     "name": "stderr",
     "output_type": "stream",
     "text": [
      "WARNING:absl:Found untraced functions such as _jit_compiled_convolution_op, _jit_compiled_convolution_op while saving (showing 2 of 2). These functions will not be directly callable after loading.\n"
     ]
    },
    {
     "data": {
      "text/plain": "['model1.pkl']"
     },
     "execution_count": 26,
     "metadata": {},
     "output_type": "execute_result"
    }
   ],
   "source": [
    "joblib.dump(model1, 'model1.pkl')"
   ],
   "metadata": {
    "collapsed": false,
    "pycharm": {
     "name": "#%%\n"
    }
   }
  },
  {
   "cell_type": "code",
   "execution_count": 28,
   "outputs": [
    {
     "name": "stdout",
     "output_type": "stream",
     "text": [
      "app\t\t      first.ipynb  multi-page.py  num\t     uber.py\r\n",
      "classification.ipynb  model1.pkl   new.py\t  README.md\r\n"
     ]
    }
   ],
   "source": [
    "!ls"
   ],
   "metadata": {
    "collapsed": false,
    "pycharm": {
     "name": "#%%\n"
    }
   }
  },
  {
   "cell_type": "code",
   "execution_count": null,
   "outputs": [],
   "source": [],
   "metadata": {
    "collapsed": false,
    "pycharm": {
     "name": "#%%\n"
    }
   }
  }
 ],
 "metadata": {
  "kernelspec": {
   "display_name": "Python 3",
   "language": "python",
   "name": "python3"
  },
  "language_info": {
   "codemirror_mode": {
    "name": "ipython",
    "version": 2
   },
   "file_extension": ".py",
   "mimetype": "text/x-python",
   "name": "python",
   "nbconvert_exporter": "python",
   "pygments_lexer": "ipython2",
   "version": "2.7.6"
  }
 },
 "nbformat": 4,
 "nbformat_minor": 0
}